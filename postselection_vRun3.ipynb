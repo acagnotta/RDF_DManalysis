{
 "cells": [
  {
   "cell_type": "markdown",
   "id": "8fd081e3",
   "metadata": {},
   "source": [
    "New Version for RUN 3 DATA/MC "
   ]
  },
  {
   "cell_type": "code",
   "execution_count": 1,
   "id": "0e16aaf3-78d5-4a3c-851c-21f771dcf586",
   "metadata": {},
   "outputs": [
    {
     "name": "stdout",
     "output_type": "stream",
     "text": [
      "Welcome to JupyROOT 6.27/01\n",
      "/tmp/x509up_u0 /cvmfs/grid.cern.ch/etc/grid-security/certificates/\n"
     ]
    }
   ],
   "source": [
    "import ROOT\n",
    "import os\n",
    "from utils.samples import *\n",
    "from utils.variables import *\n",
    "import pickle as pkl\n",
    "import numpy as np\n",
    "import math\n",
    "from dask.distributed import Client\n",
    "ROOT.RDF.Experimental.Distributed.open_files_locally = False\n",
    "\n",
    "os.environ['X509_CERT_DIR'] = \"/cvmfs/grid.cern.ch/etc/grid-security/certificates/\"\n",
    "os.environ['X509_USER_PROXY'] = \"/tmp/x509up_u0\"\n",
    "print(os.environ.get(\"X509_USER_PROXY\"), os.environ.get(\"X509_CERT_DIR\"))"
   ]
  },
  {
   "cell_type": "markdown",
   "id": "1a3271c9-56c5-4ee1-a501-f85177699ab8",
   "metadata": {},
   "source": [
    "Fixed parameters definition"
   ]
  },
  {
   "cell_type": "code",
   "execution_count": 2,
   "id": "00f446ef-90d9-46e8-ad16-8ded4fa2fb83",
   "metadata": {},
   "outputs": [],
   "source": [
    "lumi = 1   #34.202 #17.61 #fb #RUN3 eraF\n",
    "cut = requirements # ---> vedi variables.py\n",
    "in_dataset = [\"DataHT_2018\",\n",
    "              \"TprimeToTZ_700_2018\",\"TprimeToTZ_1000_2018\", \"TprimeToTZ_1800_2018\",\"QCD_2018\", \"TT_2018\", \"ZJetsToNuNu_2018\", \"WJets_2018\"\n",
    "             ]\n",
    "#[\"DataHTF_2022\"]##[\"WJets_2018\", \"TT_2018\", \"ZJetsToNuNu_2018\"]\n",
    "recreate_files = True # crea i file di ogni dataset e scrive histos con il nome degli tagli\n",
    "                      # False: appende gli histos al file pre-esistente\n",
    "run3 = False\n",
    "top_selection = False"
   ]
  },
  {
   "cell_type": "code",
   "execution_count": 3,
   "id": "54586805-5e2c-4b36-a13b-11497d5f2bcd",
   "metadata": {},
   "outputs": [],
   "source": [
    "if run3 == True:\n",
    "    electron_mvaIso = \"Electron_mvaIso_WPL\"\n",
    "else: \n",
    "    electron_mvaIso = \"Electron_mvaFall17V1Iso_WPL\""
   ]
  },
  {
   "cell_type": "code",
   "execution_count": 4,
   "id": "29461d93-e531-41df-a8c3-1fd0298ef13b",
   "metadata": {},
   "outputs": [],
   "source": [
    "## params cluster\n",
    "\n",
    "sched_port = 23291 #Dask port\n",
    "nmaxpartition = 10 # to set at lower value\n",
    "distributed = True #False#\n",
    "if distributed:\n",
    "    nfiles_max = 999\n",
    "else:\n",
    "    nfiles_max = 1  #######"
   ]
  },
  {
   "cell_type": "code",
   "execution_count": 5,
   "id": "b63e6103-21cf-4437-9d7b-2562eeb75059",
   "metadata": {},
   "outputs": [],
   "source": [
    "#output folder ---> waiting to implement davix lib\n",
    "\n",
    "folder = \"./results/run2018_benchmark/\"\n",
    "if not os.path.exists(folder):\n",
    "    os.mkdir(folder)\n",
    "repohisto = folder+\"plots/\"\n",
    "if not os.path.exists(repohisto):\n",
    "    os.mkdir(repohisto)"
   ]
  },
  {
   "cell_type": "code",
   "execution_count": 6,
   "id": "31a9be5b-2e52-431b-9709-ee1c3e639b68",
   "metadata": {
    "tags": []
   },
   "outputs": [
    {
     "name": "stderr",
     "output_type": "stream",
     "text": [
      "/usr/local/lib/python3.8/dist-packages/distributed/client.py:1128: VersionMismatchWarning: Mismatched versions found\n",
      "\n",
      "+---------+--------+-----------+---------+\n",
      "| Package | client | scheduler | workers |\n",
      "+---------+--------+-----------+---------+\n",
      "| msgpack | 1.0.3  | 1.0.2     | 1.0.3   |\n",
      "| toolz   | 0.11.2 | 0.11.1    | 0.11.2  |\n",
      "+---------+--------+-----------+---------+\n",
      "Notes: \n",
      "-  msgpack: Variation is ok, as long as everything is above 0.6\n",
      "  warnings.warn(version_module.VersionMismatchWarning(msg[0][\"warning\"]))\n"
     ]
    },
    {
     "name": "stdout",
     "output_type": "stream",
     "text": [
      "0\n",
      "end of initialization\n"
     ]
    }
   ],
   "source": [
    "# initialization of clusters\n",
    "\n",
    "# upload the proxyfile to the Dask workers to make them able to access data on the grid \n",
    "\n",
    "from distributed.diagnostics.plugin import UploadFile\n",
    "def set_proxy(dask_worker):\n",
    "    import os\n",
    "    import shutil\n",
    "    working_dir = dask_worker.local_directory\n",
    "    proxy_name = 'x509up_u0'\n",
    "    os.environ['X509_USER_PROXY'] = working_dir + '/' + proxy_name\n",
    "    os.environ['X509_CERT_DIR']=\"/cvmfs/grid.cern.ch/etc/grid-security/certificates/\"\n",
    "    shutil.copyfile(working_dir + '/x509up_u0', working_dir + '/../../../x509up_u0')    \n",
    "    os.environ['EXTRA_CLING_ARGS'] = \"-O2\"\n",
    "    return os.environ.get(\"X509_USER_PROXY\"), os.environ.get(\"X509_CERT_DIR\")\n",
    "\n",
    "text_file = open(\"utils/postselection.h\", \"r\")\n",
    "data = text_file.read()\n",
    "def my_initialization_function():\n",
    "    print(ROOT.gInterpreter.ProcessLine(\".O\"))\n",
    "    ROOT.gInterpreter.Declare('{}'.format(data))\n",
    "    print(\"end of initialization\")\n",
    "\n",
    "# set up everything properly\n",
    "if distributed == True:\n",
    "    RDataFrame = ROOT.RDF.Experimental.Distributed.Dask.RDataFrame\n",
    "    client = Client(address=\"tcp://127.0.0.1:\"+str(sched_port))\n",
    "    client.restart()\n",
    "    client.register_worker_plugin(UploadFile(\"/tmp/x509up_u0\"))\n",
    "    client.run(set_proxy)\n",
    "    ROOT.RDF.Experimental.Distributed.initialize(my_initialization_function)\n",
    "else:\n",
    "    RDataFrame = ROOT.RDataFrame\n",
    "    my_initialization_function()"
   ]
  },
  {
   "cell_type": "markdown",
   "id": "41e40aec",
   "metadata": {},
   "source": [
    "Regions definitions for Analysis"
   ]
  },
  {
   "cell_type": "code",
   "execution_count": 7,
   "id": "3c3b1a5d",
   "metadata": {},
   "outputs": [
    {
     "name": "stdout",
     "output_type": "stream",
     "text": [
      "{'all_regions': '', 'rA': 'MET_pt>200 && MinDelta_phi>0.6 && MinDelta_phi<2.5', 'rB': 'MET_pt>200 && MinDelta_phi>2.5', 'rC': 'MET_pt>200 && MinDelta_phi>0.6 && MinDelta_phi<2.5 && nJetBtag > 0 ', 'rD': 'MET_pt>200 && MinDelta_phi>2.5 && nJetBtag > 0', 'rE': 'MET_pt>200 && MinDelta_phi>0.6 && MinDelta_phi<2.5 && nJetBtag == 0 ', 'rF': 'MET_pt>200 && MinDelta_phi>2.5 && nJetBtag == 0'}\n"
     ]
    }
   ],
   "source": [
    "regions_def = regions # ---> vedi variables.py\n",
    "# {\n",
    "#     \"all_regions\" : \"\"\n",
    "#     # \"resolved_1fwjet\": \"EventTopCategory==3 && nForwardJet>0\", \n",
    "#     # \"mixed_1fwjet\": \"EventTopCategory==2 && nForwardJet>0\", \n",
    "#     # \"merged_1fwjet\": \"EventTopCategory==1 && nForwardJet>0\",\n",
    "#     # \"resolved_0fwjet\": \"EventTopCategory==3 && nForwardJet==0\", \n",
    "#     # \"mixed_0fwjet\": \"EventTopCategory==2 && nForwardJet==0\", \n",
    "#     # \"merged_0fwjet\" : \"EventTopCategory==1 && nForwardJet==0\",\n",
    "#     # \"noTopRegion\" : \"EventTopCategory==0\"\n",
    "# }\n",
    "print(regions_def)"
   ]
  },
  {
   "cell_type": "markdown",
   "id": "16e9de3f-0903-4934-9090-15e12c806b20",
   "metadata": {},
   "source": [
    "Importing dict samples with the info for processing"
   ]
  },
  {
   "cell_type": "code",
   "execution_count": 8,
   "id": "c2fbdbd1-d1d8-4ddf-9d0d-10d6a7b7d631",
   "metadata": {},
   "outputs": [],
   "source": [
    "sample_file = open(\"utils/dict_samples.pkl\", \"rb\")\n",
    "samples = pkl.load(sample_file)\n",
    "sample_file.close()"
   ]
  },
  {
   "cell_type": "markdown",
   "id": "29546c32",
   "metadata": {},
   "source": [
    "INPUT DATASETS"
   ]
  },
  {
   "cell_type": "code",
   "execution_count": 9,
   "id": "06816863-d201-4852-b127-6bd885b566f7",
   "metadata": {},
   "outputs": [
    {
     "data": {
      "text/plain": [
       "['DataHT_2018',\n",
       " 'TprimeToTZ_700_2018',\n",
       " 'TprimeToTZ_1000_2018',\n",
       " 'TprimeToTZ_1800_2018',\n",
       " 'QCD_2018',\n",
       " 'TT_2018',\n",
       " 'ZJetsToNuNu_2018',\n",
       " 'WJets_2018']"
      ]
     },
     "execution_count": 9,
     "metadata": {},
     "output_type": "execute_result"
    }
   ],
   "source": [
    "in_dataset"
   ]
  },
  {
   "cell_type": "code",
   "execution_count": 10,
   "id": "0d23c148-5df3-45ff-ba4b-1ac967f420de",
   "metadata": {},
   "outputs": [
    {
     "name": "stdout",
     "output_type": "stream",
     "text": [
      "DataHT_2018\n",
      "TprimeToTZ_700_2018\n",
      "TprimeToTZ_1000_2018\n",
      "TprimeToTZ_1800_2018\n",
      "QCD_2018\n",
      "TT_2018\n",
      "ZJetsToNuNu_2018\n",
      "WJets_2018\n"
     ]
    }
   ],
   "source": [
    "if not in_dataset[0] in sample_dict.keys():\n",
    "    datasets = []\n",
    "    print(\"Check the in_dataset string... \", sample_dict.keys())\n",
    "else : \n",
    "    datasets= []\n",
    "    for d in in_dataset:\n",
    "        datasets.append(sample_dict[d])\n",
    "        print(datasets[-1].label)"
   ]
  },
  {
   "cell_type": "code",
   "execution_count": 11,
   "id": "682c7555-c07d-4899-b7d1-12cef3783084",
   "metadata": {},
   "outputs": [
    {
     "data": {
      "text/plain": [
       "dict_keys(['ZJetsToNuNu_2018', 'TT_2018', 'TprimeToTZ_700_2018', 'TprimeToTZ_1000_2018', 'TprimeToTZ_1800_2018', 'DataHTF_2022', 'QCD_2022', 'TT_2022', 'QCD_2018', 'DataHT_2022', 'WJets_2018', 'DataHT_2018'])"
      ]
     },
     "execution_count": 11,
     "metadata": {},
     "output_type": "execute_result"
    }
   ],
   "source": [
    "samples.keys()"
   ]
  },
  {
   "cell_type": "markdown",
   "id": "647f503d",
   "metadata": {},
   "source": [
    "Variables to plot"
   ]
  },
  {
   "cell_type": "code",
   "execution_count": 12,
   "id": "616688c8-eb99-452d-b66c-cd938fcc2877",
   "metadata": {},
   "outputs": [
    {
     "name": "stdout",
     "output_type": "stream",
     "text": [
      "['MET_pt', 'PuppiMET_pt', 'MET_phi', 'LeadingJet_pt', 'nTopHighPt', 'nTopLowPt', 'nJet', 'nJetBtag', 'nFatJet', 'MinDelta_phi', 'MaxEta_jet', 'HT_eventHT']\n"
     ]
    }
   ],
   "source": [
    "#Defining variables to plot\n",
    "\n",
    "var = vars  # ---> vedi variables.py\n",
    "\n",
    "# var.append(variable(name = \"MET_pt\", title= \"MET p_{T} [GeV]\", taglio = cut, nbins = 20, xmin = 0, xmax=1000))\n",
    "# var.append(variable(name = \"MET_phi\", title= \"MET #phi\", taglio = cut, nbins = 6, xmin = -math.pi, xmax=math.pi))\n",
    "# var.append(variable(name = \"LeadingJet_pt\", title= \"Leading Jet p_{T} [GeV]\", taglio = cut, nbins = 30, xmin = 50, xmax=950))\n",
    "# var.append(variable(name = \"nTopHighPt\", title= \"# Top Candidate Mix\", taglio = cut, nbins = 80, xmin = -0.5, xmax=80.5))\n",
    "# var.append(variable(name = \"nTopLowPt\", title= \"# Top Candidate Resolved\", taglio = cut, nbins = 50, xmin = -0.5, xmax=50.5))\n",
    "# var.append(variable(name = \"nJet\", title= \"# Jet\", taglio = cut, nbins = 25, xmin = -0.5, xmax=25.5))\n",
    "# var.append(variable(name = \"nFatJet\", title= \"# FatJet\", taglio = cut, nbins = 25, xmin = -0.5, xmax=25.5))\n",
    "# var.append(variable(name = \"MinDelta_phi\", title= \"min #Delta #phi\", taglio = cut, nbins = 20, xmin = 0, xmax = 4))\n",
    "# var.append(variable(name = \"MaxEta_jet\", title= \"max #eta jet\", taglio = cut, nbins = 24, xmin = 0, xmax = 6))\n",
    "\n",
    "print([v._name for v in var])\n"
   ]
  },
  {
   "cell_type": "code",
   "execution_count": 13,
   "id": "963af90a-de0c-44a7-9b64-3927c34eeffd",
   "metadata": {},
   "outputs": [],
   "source": [
    "################### utils ###################\n",
    "def cut_string(cut):\n",
    "    return cut.replace(\" \", \"\").replace(\"&&\",\"_\").replace(\">\",\"_g_\").replace(\".\",\"_\").replace(\"==\",\"_e_\")\n",
    "\n",
    "############### trigger selection #####################\n",
    "def trigger_filter(df):\n",
    "    #HLT_PFHT780 || HLT_PFHT890 || HLT_Mu50 || HLT_OldMu100 || HLT_TkMu100 || HLT_Ele115_CaloIdVT_GsfTrkIdT || HLT_Photon200 || HLT_Ele35_WPTight_Gsf\n",
    "    #preso da MET_HLT_filter\n",
    "    #df_trig = df.Filter(\"HLT_PFHT780 || HLT_PFHT890 || HLT_Mu50 || HLT_OldMu100 || HLT_TkMu100 || HLT_Ele115_CaloIdVT_GsfTrkIdT || HLT_Photon200 || HLT_Ele35_WPTight_Gsf\")\n",
    "    df_trig = df.Filter(\"HLT_PFMET120_PFMHT120_IDTight || HLT_PFMET120_PFMHT120_IDTight || HLT_PFMETNoMu120_PFMHTNoMu120_IDTight\")\n",
    "    return df_trig\n",
    "\n",
    "############### top selection ########################\n",
    "def select_top(df):\n",
    "    df_goodtopMer = df.Define(\"GoodTopMer_idx\", \"select_TopMer(FatJet_deepTag_TvsQCD, FatJet_pt, FatJet_eta, FatJet_phi)\")\n",
    "    # ritorna gli indici dei FatJet che superano la trs del Top Merged (no overlap)\n",
    "    df_goodtopMix = df_goodtopMer.Define(\"GoodTopMix_idx\", \"select_TopMix(TopHighPt_score2, TopHighPt_pt, TopHighPt_eta, TopHighPt_phi)\")\n",
    "    # ritorna gli indici dei FatJet che superano la trs del Top Merged (no overlap)\n",
    "    df_goodtopRes = df_goodtopMix.Define(\"GoodTopRes_idx\", \"select_TopRes(TopLowPt_scoreDNN, TopLowPt_pt, TopLowPt_eta, TopLowPt_phi)\")\n",
    "    # ritorna gli indici dei Fatche superano la trs del Top Merged (no overlap)\n",
    "    df_topcategory = df_goodtopRes.Define(\"EventTopCategory\", \"select_TopCategory(GoodTopMer_idx, GoodTopMix_idx, GoodTopRes_idx)\")\n",
    "    # return:  0- no top sel, 1- top merged, 2- top mix, 3- top resolved\n",
    "    df_topselected = df_topcategory.Define(\"Top_idx\",\n",
    "                                           \"select_bestTop(EventTopCategory, GoodTopMer_idx, GoodTopMix_idx, GoodTopRes_idx, FatJet_deepTag_TvsQCD, TopHighPt_score2, TopLowPt_scoreDNN)\")\n",
    "    # return best top idx wrt category --> the idx is referred to the list of candidates fixed by the EventTopCategory\n",
    "    df_topvariables = df_topselected.Define(\"Top_pt\", \"select_TopVar(EventTopCategory, Top_idx, FatJet_pt, TopHighPt_pt, TopLowPt_pt)\")\\\n",
    "                        .Define(\"Top_eta\", \"select_TopVar(EventTopCategory, Top_idx, FatJet_eta, TopHighPt_eta, TopLowPt_eta)\")\\\n",
    "                        .Define(\"Top_phi\", \"select_TopVar(EventTopCategory, Top_idx, FatJet_phi, TopHighPt_phi, TopLowPt_phi)\")\\\n",
    "                        .Define(\"Top_mass\", \"select_TopVar(EventTopCategory, Top_idx, FatJet_mass, TopHighPt_mass, TopLowPt_mass)\")\\\n",
    "                        .Define(\"Top_score\", \"select_TopVar(EventTopCategory, Top_idx, FatJet_deepTag_TvsQCD, TopHighPt_score2, TopLowPt_scoreDNN)\")\n",
    "\n",
    "    return df_topvariables\n",
    "\n",
    "def global_var(df):\n",
    "    df_goodjet = df.Define(\"GoodJet_idx\", \"GetGoodJet(Jet_pt, Jet_jetId)\")\n",
    "    df_leadingjet = df_goodjet.Define(\"LeadingJet_pt\", \"LeadingJetPt(GoodJet_idx, Jet_pt)\")\n",
    "    df_frwjet = df_leadingjet.Define(\"nForwardJet\", \"nForwardJet(GoodJet_idx, Jet_eta)\")\n",
    "    df_bjet = df_frwjet.Define(\"nJetBtag\", \"njetbtag(GoodJet_idx, Jet_btagDeepFlavB)\")\n",
    "\n",
    "    return df_bjet\n"
   ]
  },
  {
   "cell_type": "code",
   "execution_count": 14,
   "id": "69f0bf61-b2ab-422e-8baf-9abba2b984cd",
   "metadata": {},
   "outputs": [],
   "source": [
    "def bookhisto(df, regions_def, var, s_cut):\n",
    "    h_ = {}\n",
    "    for reg in regions_def.keys():\n",
    "        h_[reg] = {}\n",
    "        for v in var:\n",
    "            if regions_def[reg] == \"\":\n",
    "                h_[reg][v._name]= df.Histo1D((v._name+\"_\"+reg+\"_\"+s_cut,\" ;\"+v._title+\"\", v._nbins, v._xmin, v._xmax), v._name, \"w_nominal\")\n",
    "                # h_[reg][v._name]= df.Define(v._name+\"_plot\", v._name+\"*w_nominal\").Histo1D((v._name+\"_\"+reg+\"_\"+s_cut,\" ;\"+v._title+\"\", v._nbins, v._xmin, v._xmax), v._name+\"_plot\")\n",
    "            else:\n",
    "                h_[reg][v._name]= (df.Filter(regions_def[reg]).Histo1D((v._name+\"_\"+reg+\"_\"+s_cut,\" ;\"+v._title+\"\", v._nbins, v._xmin, v._xmax), v._name, \"w_nominal\"))\n",
    "                # h_[reg][v._name]= (df.Filter(regions_def[reg]).Define(v._name+\"_plot\", v._name+\"*w_nominal\").Histo1D((v._name+\"_\"+reg+\"_\"+s_cut,\" ;\"+v._title+\"\", v._nbins, v._xmin, v._xmax), v._name+\"_plot\"))\n",
    "\n",
    "    print(\"Done \"+s.label+\" !\")\n",
    "    return h_    "
   ]
  },
  {
   "cell_type": "code",
   "execution_count": 15,
   "id": "37967949-f502-4c77-9ceb-dd04f8062cd8",
   "metadata": {
    "tags": []
   },
   "outputs": [],
   "source": [
    "def savehisto(d, regions_def, var, s_cut):\n",
    "    histo = {}\n",
    "    histo[d.label] = {reg: {v._name: ROOT.TH1D(v._name+\"_\"+reg+\"_\"+s_cut,\" ;\"+v._title+\"\", v._nbins, v._xmin, v._xmax) for v in var} for reg in regions_def.keys()}\n",
    "    if recreate_files== True:\n",
    "        outfile = ROOT.TFile.Open(repohisto+d.label+'.root', \"RECREATE\")\n",
    "    else:\n",
    "        outfile = ROOT.TFile.Open(repohisto+d.label+'.root', \"Update\")\n",
    "    for reg in regions_def.keys():\n",
    "        for v in var:\n",
    "            if hasattr(d, \"components\"):\n",
    "                s_list = d.components\n",
    "                for s in s_list:\n",
    "                    if not os.path.exists(repohisto+s.label+'.root'):\n",
    "                        outfile_s = ROOT.TFile.Open(repohisto+s.label+'.root', \"RECREATE\")\n",
    "                    else:\n",
    "                        outfile_s = ROOT.TFile.Open(repohisto+s.label+'.root', \"UPDATE\")\n",
    "                    tmp = h[d.label][s.label][reg][v._name].GetValue()\n",
    "                    if not 'Data' in s.label:\n",
    "                        ntot = np.sum(samples[d.label][s.label]['ntot'][:nfiles])\n",
    "                        w = sample_dict[s.label].sigma*lumi*10**3/ntot\n",
    "                        tmp.Scale(w)\n",
    "                    outfile_s.cd()\n",
    "                    tmp.Write()\n",
    "                    histo[d.label][reg][v._name].Add(tmp)\n",
    "            else:\n",
    "                s_list = [d]\n",
    "                for s in s_list:\n",
    "                    tmp = h[d.label][s.label][reg][v._name].GetValue()\n",
    "                    if not 'Data' in s.label:\n",
    "                        ntot = np.sum(samples[d.label][s.label]['ntot'][:nfiles])\n",
    "                        w = sample_dict[s.label].sigma*lumi*10**3/ntot\n",
    "                        tmp.Scale(w)\n",
    "                    histo[d.label][reg][v._name].Add(tmp)\n",
    "            outfile.cd()\n",
    "            histo[d.label][reg][v._name].Write()\n",
    "    outfile.Close()"
   ]
  },
  {
   "cell_type": "code",
   "execution_count": 16,
   "id": "54c96d28-45f4-4877-8d00-680e095a3016",
   "metadata": {
    "tags": []
   },
   "outputs": [],
   "source": [
    "#samples['DataHTF_2022']['DataHTF_2022']['strings']"
   ]
  },
  {
   "cell_type": "code",
   "execution_count": 17,
   "id": "ab036200-65f9-44a0-abbb-8a04003fc423",
   "metadata": {},
   "outputs": [],
   "source": [
    "#samples[d.label][d.components[0]]['strings']"
   ]
  },
  {
   "cell_type": "code",
   "execution_count": 18,
   "id": "4b72ddfd-d641-437d-a78c-8568a0a17a30",
   "metadata": {
    "tags": []
   },
   "outputs": [
    {
     "name": "stdout",
     "output_type": "stream",
     "text": [
      "starting loop on datasets:  [<utils.samples.sample object at 0x7fa16aa3f040>, <utils.samples.sample object at 0x7fa17c053d90>, <utils.samples.sample object at 0x7fa17c053d60>, <utils.samples.sample object at 0x7fa17c053d30>, <utils.samples.sample object at 0x7fa17c053910>, <utils.samples.sample object at 0x7fa17c053640>, <utils.samples.sample object at 0x7fa17c053ac0>, <utils.samples.sample object at 0x7fa17c053940>]\n",
      "DataHT_2018\n",
      "Initializing DataFrame for  DataHTA_2018\n",
      "562\n",
      "requirements: \n",
      "Done DataHTA_2018 !\n",
      "Initializing DataFrame for  DataHTB_2018\n",
      "263\n",
      "requirements: \n",
      "Done DataHTB_2018 !\n",
      "Initializing DataFrame for  DataHTC_2018\n",
      "264\n",
      "requirements: \n",
      "Done DataHTC_2018 !\n",
      "TprimeToTZ_700_2018\n",
      "Initializing DataFrame for  TprimeToTZ_700_2018\n",
      "14\n",
      "requirements: \n",
      "Done TprimeToTZ_700_2018 !\n",
      "TprimeToTZ_1000_2018\n",
      "Initializing DataFrame for  TprimeToTZ_1000_2018\n",
      "12\n",
      "requirements: \n",
      "Done TprimeToTZ_1000_2018 !\n",
      "TprimeToTZ_1800_2018\n",
      "Initializing DataFrame for  TprimeToTZ_1800_2018\n",
      "9\n",
      "requirements: \n",
      "Done TprimeToTZ_1800_2018 !\n",
      "QCD_2018\n",
      "Initializing DataFrame for  QCDHT_100to200_2018\n",
      "53\n",
      "requirements: \n",
      "Done QCDHT_100to200_2018 !\n",
      "Initializing DataFrame for  QCDHT_200to300_2018\n",
      "28\n",
      "requirements: \n",
      "Done QCDHT_200to300_2018 !\n",
      "Initializing DataFrame for  QCDHT_300to500_2018\n",
      "73\n",
      "requirements: \n",
      "Done QCDHT_300to500_2018 !\n",
      "Initializing DataFrame for  QCDHT_500to700_2018\n",
      "38\n",
      "requirements: \n",
      "Done QCDHT_500to700_2018 !\n",
      "Initializing DataFrame for  QCDHT_700to1000_2018\n",
      "34\n",
      "requirements: \n",
      "Done QCDHT_700to1000_2018 !\n",
      "Initializing DataFrame for  QCDHT_1000to1500_2018\n",
      "26\n",
      "requirements: \n",
      "Done QCDHT_1000to1500_2018 !\n",
      "Initializing DataFrame for  QCDHT_1500to2000_2018\n",
      "7\n",
      "requirements: \n",
      "Done QCDHT_1500to2000_2018 !\n",
      "Initializing DataFrame for  QCDHT_2000toInf_2018\n",
      "6\n",
      "requirements: \n",
      "Done QCDHT_2000toInf_2018 !\n",
      "TT_2018\n",
      "Initializing DataFrame for  TT_hadr_2018\n",
      "42\n",
      "requirements: \n",
      "Done TT_hadr_2018 !\n",
      "Initializing DataFrame for  TT_semilep_2018\n",
      "29\n",
      "requirements: \n",
      "Done TT_semilep_2018 !\n",
      "Initializing DataFrame for  TT_Mtt1000toInf_2018\n",
      "67\n",
      "requirements: \n",
      "Done TT_Mtt1000toInf_2018 !\n",
      "Initializing DataFrame for  TT_Mtt700to1000_2018\n",
      "78\n",
      "requirements: \n",
      "Done TT_Mtt700to1000_2018 !\n",
      "ZJetsToNuNu_2018\n",
      "Initializing DataFrame for  ZJetsToNuNu_HT100to200_2018\n",
      "23\n",
      "requirements: \n",
      "Done ZJetsToNuNu_HT100to200_2018 !\n",
      "Initializing DataFrame for  ZJetsToNuNu_HT200to400_2018\n",
      "11\n",
      "requirements: \n",
      "Done ZJetsToNuNu_HT200to400_2018 !\n",
      "Initializing DataFrame for  ZJetsToNuNu_HT400to600_2018\n",
      "10\n",
      "requirements: \n",
      "Done ZJetsToNuNu_HT400to600_2018 !\n",
      "Initializing DataFrame for  ZJetsToNuNu_HT600to800_2018\n",
      "7\n",
      "requirements: \n",
      "Done ZJetsToNuNu_HT600to800_2018 !\n",
      "Initializing DataFrame for  ZJetsToNuNu_HT800to1200_2018\n",
      "3\n",
      "requirements: \n",
      "Done ZJetsToNuNu_HT800to1200_2018 !\n",
      "Initializing DataFrame for  ZJetsToNuNu_HT1200to2500_2018\n",
      "3\n",
      "requirements: \n",
      "Done ZJetsToNuNu_HT1200to2500_2018 !\n",
      "Initializing DataFrame for  ZJetsToNuNu_HT2500toInf_2018\n",
      "1\n",
      "requirements: \n",
      "Done ZJetsToNuNu_HT2500toInf_2018 !\n",
      "WJets_2018\n",
      "Initializing DataFrame for  WJetsHT100to200_2018\n",
      "31\n",
      "requirements: \n",
      "Done WJetsHT100to200_2018 !\n",
      "Initializing DataFrame for  WJetsHT200to400_2018\n",
      "29\n",
      "requirements: \n",
      "Done WJetsHT200to400_2018 !\n",
      "Initializing DataFrame for  WJetsHT400to600_2018\n",
      "12\n",
      "requirements: \n",
      "Done WJetsHT400to600_2018 !\n",
      "Initializing DataFrame for  WJetsHT600to800_2018\n",
      "23\n",
      "requirements: \n",
      "Done WJetsHT600to800_2018 !\n",
      "Initializing DataFrame for  WJetsHT800to1200_2018\n",
      "4\n",
      "requirements: \n",
      "Done WJetsHT800to1200_2018 !\n",
      "Initializing DataFrame for  WJetsHT1200to2500_2018\n",
      "10\n",
      "requirements: \n",
      "Done WJetsHT1200to2500_2018 !\n",
      "Initializing DataFrame for  WJetsHT2500toInf_2018\n",
      "2\n",
      "requirements: \n",
      "Done WJetsHT2500toInf_2018 !\n"
     ]
    },
    {
     "name": "stderr",
     "output_type": "stream",
     "text": [
      "The number of requested partitions could be higher than the maximum amount of chunks the dataset can be split in. Some tasks could be doing no work. Consider setting the 'npartitions' parameter of the RDataFrame constructor to a lower value.\n",
      "Warning in <TClass::Init>: no dictionary for class edm::Hash<1> is available\n",
      "Warning in <TClass::Init>: no dictionary for class edm::ParameterSetBlob is available\n",
      "Warning in <TClass::Init>: no dictionary for class edm::ProcessHistory is available\n",
      "Warning in <TClass::Init>: no dictionary for class edm::ProcessConfiguration is available\n",
      "Warning in <TClass::Init>: no dictionary for class pair<edm::Hash<1>,edm::ParameterSetBlob> is available\n",
      "distributed.client - ERROR - Failed to reconnect to scheduler after 30.00 seconds, closing client\n",
      "_GatheringFuture exception was never retrieved\n",
      "future: <_GatheringFuture finished exception=CancelledError()>\n",
      "asyncio.exceptions.CancelledError\n"
     ]
    }
   ],
   "source": [
    "print(\"starting loop on datasets: \",datasets)\n",
    "h = {}\n",
    "f_df = {}\n",
    "\n",
    "for d in datasets:\n",
    "    h[d.label] = {}\n",
    "    f_df[d.label] = {}\n",
    "    print(d.label)\n",
    "    if hasattr(d, \"components\"):\n",
    "        s_list = d.components\n",
    "    else:\n",
    "        s_list = [d]\n",
    "    for s in s_list:\n",
    "        if 'Data' in s.label : isMC = False\n",
    "        else: isMC = True\n",
    "        c_ = cut\n",
    "        print(\"Initializing DataFrame for \", s.label)\n",
    "        if nfiles_max > len(samples[d.label][s.label]['strings']): \n",
    "            nfiles = len(samples[d.label][s.label]['strings'])\n",
    "            for i, string in enumerate(samples[d.label][s.label]['strings']): \n",
    "                samples[d.label][s.label]['strings'][i] = string.replace(\"root://cms-xrd-global.cern.ch/\", \"root://stormgf2.pi.infn.it/\")\n",
    "            chain = samples[d.label][s.label]['strings']\n",
    "        else: \n",
    "            nfiles = nfiles_max\n",
    "            # for i, string in enumerate(samples[d.label][s.label]['strings']): \n",
    "            #     samples[d.label][s.label]['strings'][i] = string.replace(\"root://cms-xrd-global.cern.ch/\", \"root://stormgf2.pi.infn.it/\")\n",
    "            chain = samples[d.label][s.label]['strings'][:nfiles]\n",
    "        print(len(chain))\n",
    "        if distributed ==True:\n",
    "            df = RDataFrame(\"Events\", chain, npartitions=nmaxpartition, \n",
    "                            daskclient=client, monitor_label = \"main\" )\n",
    "        else:\n",
    "            df = RDataFrame(\"Events\", chain)\n",
    "            \n",
    "        df = df.Define(\"HEMVeto\", \"hemveto(Jet_eta, Jet_phi, Electron_eta, Electron_phi)\")\n",
    "        df = df.Define('w_nominal', '1')\n",
    "        if s.year == 2018: \n",
    "            if not isMC:\n",
    "                df = df.Filter('HEMVeto || run<319077.')\n",
    "            elif isMC: # else\n",
    "                df = df.Redefine('w_nominal', 'w_nominalhemveto(w_nominal, HEMVeto)')\n",
    "        \n",
    "        if 'TT' in s.label and not 'Mtt' in s.label:\n",
    "            df = df.Filter(\"tt_mtt_doublecounting(GenPart_pdgId, GenPart_pt, GenPart_eta, GenPart_phi, GenPart_mass)\")\n",
    "        \n",
    "        df_trigger = trigger_filter(df)\n",
    "        df_globalvar = global_var(df_trigger)\n",
    "        if top_selection: \n",
    "            df_seltop = select_top(df_globalvar) \n",
    "            df_mt = df_seltop\n",
    "            #df_mt = df_globvar.Define(\"Mt\", \"sqrt(2 * Top_pt * MET_pt * (1 - cos(Top_phi - MET_phi)))\") \n",
    "        else:\n",
    "            df_mt = df_globalvar\n",
    "        \n",
    "        if 'leptonveto' in cut:\n",
    "            df_lepveto = df_mt.Filter(\"LepVeto(Electron_pt, Electron_eta, \"+electron_mvaIso+\",Muon_pt, Muon_eta, Muon_looseId )\")\n",
    "            if \"&& leptonveto\" in cut:\n",
    "                c_ = cut.replace(\"&& leptonveto\",\"\")\n",
    "            elif \"leptonveto &&\" in cut:\n",
    "                c_ = cut.replace(\"leptonveto &&\",\"\")\n",
    "        else: \n",
    "            df_lepveto = df_mt\n",
    "            c_ = cut\n",
    "            \n",
    "        print(\"requirements: \"+c_)\n",
    "        if cut==\"\": df_plot = df_lepveto#df_lepveto\n",
    "        else: df_plot = df_lepveto.Filter(c_)\n",
    "            \n",
    "        h[d.label][s.label] = {}\n",
    "        s_cut = cut_string(cut)\n",
    "        tmp = bookhisto(df_plot, regions_def, var, s_cut)\n",
    "        h[d.label][s.label] = tmp\n",
    "            \n",
    "for d in datasets:\n",
    "    savehisto(d, regions_def, var, s_cut)"
   ]
  },
  {
   "cell_type": "code",
   "execution_count": null,
   "id": "9573b747-9a5a-4501-b084-481b10d418ea",
   "metadata": {},
   "outputs": [],
   "source": []
  },
  {
   "cell_type": "code",
   "execution_count": null,
   "id": "b50bce3c-c0ec-46ab-9db1-7ce69a422d3a",
   "metadata": {
    "tags": []
   },
   "outputs": [],
   "source": [
    "s_cut = \"\""
   ]
  },
  {
   "cell_type": "code",
   "execution_count": null,
   "id": "d207a796-f4a9-448a-a0ee-d2aa1964b826",
   "metadata": {},
   "outputs": [],
   "source": [
    "import ROOT\n",
    "file = ROOT.TFile.Open(repohisto+\"TT_2018.root\")"
   ]
  },
  {
   "cell_type": "code",
   "execution_count": null,
   "id": "9c2580f5-b35c-465a-8a27-43ff74d00128",
   "metadata": {
    "tags": []
   },
   "outputs": [],
   "source": [
    "for a in file.GetListOfKeys():\n",
    "    print(a)"
   ]
  },
  {
   "cell_type": "code",
   "execution_count": 21,
   "id": "938ce541-3674-493f-a776-0846422f4e7c",
   "metadata": {},
   "outputs": [
    {
     "data": {
      "text/plain": [
       "dict_keys(['all_regions', 'rA', 'rB', 'rC', 'rD', 'rE', 'rF'])"
      ]
     },
     "execution_count": 21,
     "metadata": {},
     "output_type": "execute_result"
    }
   ],
   "source": [
    "regions_def.keys()"
   ]
  },
  {
   "cell_type": "code",
   "execution_count": 22,
   "id": "c1f5a756-4d4c-4c59-aef7-a0869c711d60",
   "metadata": {},
   "outputs": [
    {
     "name": "stdout",
     "output_type": "stream",
     "text": [
      "nFatJet_all_regions_\n",
      "nFatJet_rA_\n",
      "nFatJet_rB_\n",
      "nFatJet_rC_\n",
      "nFatJet_rD_\n",
      "nFatJet_rE_\n",
      "nFatJet_rF_\n"
     ]
    }
   ],
   "source": [
    "v = \"nFatJet\"\n",
    "histos_met = []\n",
    "for reg in regions_def.keys():\n",
    "    histos_met.append(file.Get(v+\"_\"+reg+\"_\"+s_cut))\n",
    "    print(v+\"_\"+reg+\"_\"+s_cut)"
   ]
  },
  {
   "cell_type": "code",
   "execution_count": 23,
   "id": "83b57155-6f95-4bea-9bc2-3524e45e8904",
   "metadata": {},
   "outputs": [
    {
     "data": {
      "text/plain": [
       "<cppyy.gbl.TH1D object at 0xa673c60>"
      ]
     },
     "execution_count": 23,
     "metadata": {},
     "output_type": "execute_result"
    }
   ],
   "source": [
    "histos_met[0]"
   ]
  },
  {
   "cell_type": "code",
   "execution_count": 24,
   "id": "0f436777-8258-4880-bd1e-93b82f7b6a79",
   "metadata": {},
   "outputs": [
    {
     "data": {
      "image/png": "[encoded data removed]",
      "text/plain": [
       "<IPython.core.display.Image object>"
      ]
     },
     "metadata": {},
     "output_type": "display_data"
    }
   ],
   "source": [
    "c1 = ROOT.TCanvas()\n",
    "c1.Draw()\n",
    "c1.SetLogy()\n",
    "histos_met[0].Draw()"
   ]
  },
  {
   "cell_type": "code",
   "execution_count": null,
   "id": "3183f2f7-c1b7-4dac-a647-e97bb31661d9",
   "metadata": {},
   "outputs": [],
   "source": []
  },
  {
   "cell_type": "code",
   "execution_count": null,
   "id": "222cff66-b1c4-41c0-bf50-225937416717",
   "metadata": {},
   "outputs": [],
   "source": []
  }
 ],
 "metadata": {
  "kernelspec": {
   "display_name": "Singularity kernel",
   "language": "python",
   "name": "singularity-kernel"
  },
  "language_info": {
   "codemirror_mode": {
    "name": "ipython",
    "version": 3
   },
   "file_extension": ".py",
   "mimetype": "text/x-python",
   "name": "python",
   "nbconvert_exporter": "python",
   "pygments_lexer": "ipython3",
   "version": "3.8.10"
  }
 },
 "nbformat": 4,
 "nbformat_minor": 5
}
