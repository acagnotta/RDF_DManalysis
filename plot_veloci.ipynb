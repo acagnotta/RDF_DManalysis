{
 "cells": [
  {
   "cell_type": "code",
   "execution_count": 1,
   "id": "db93e873-e5a4-42a0-b35d-e10b89208444",
   "metadata": {},
   "outputs": [
    {
     "name": "stdout",
     "output_type": "stream",
     "text": [
      "Welcome to JupyROOT 6.27/01\n"
     ]
    }
   ],
   "source": [
    "import ROOT\n",
    "import math"
   ]
  },
  {
   "cell_type": "code",
   "execution_count": 2,
   "id": "be5a5424-d3d2-44e6-9d90-611f20a810ff",
   "metadata": {},
   "outputs": [],
   "source": [
    "N_tprime700 = 211000\n",
    "N_tthadr =  1384000\n",
    "N_ttsemilep = 1235000\n",
    "N_ttMtt700 =   1334384\n",
    "N_ttMtt1000 =  1247210"
   ]
  },
  {
   "cell_type": "code",
   "execution_count": 3,
   "id": "5bbb3566-7c26-4b24-adc9-272448120a25",
   "metadata": {},
   "outputs": [],
   "source": [
    "sigma_Tprime700 = 0.07804 #pb\n",
    "sigma_tthadr = 687.1 #pb\n",
    "sigma_ttsemilep = 687.1 #pb\n",
    "sigma_ttMtt700  = 66.85 #pb\n",
    "sigma_ttMtt1000 = 16.42 #pb"
   ]
  },
  {
   "cell_type": "code",
   "execution_count": 4,
   "id": "ec20651e-5e45-4275-9a42-58058232ca4d",
   "metadata": {},
   "outputs": [
    {
     "data": {
      "text/plain": [
       "<class cppyy.gbl.TH1D at 0x5e8c920>"
      ]
     },
     "execution_count": 4,
     "metadata": {},
     "output_type": "execute_result"
    }
   ],
   "source": [
    "h = ROOT.TH1D(\"mindeltaphi\",\"mindeltaphi\", 18, 0, math.pi)\n",
    "type(h)"
   ]
  },
  {
   "cell_type": "code",
   "execution_count": 5,
   "id": "d31e7cb9-ecd4-48dc-8e0b-e70b7a45403a",
   "metadata": {},
   "outputs": [
    {
     "data": {
      "text/plain": [
       "True"
      ]
     },
     "execution_count": 5,
     "metadata": {},
     "output_type": "execute_result"
    }
   ],
   "source": [
    "sample = \"TT_hadr_2018\"\n",
    "plot = \"MinDelta_phi_compared_regions_leptonveto\"\n",
    "sigma = sigma_tthadr *10**3 #fb\n",
    "lumi = 59.74\n",
    "file = ROOT.TFile.Open(\"./results/run2018_benchmark_v1/plots/\"+sample+\".root\")\n",
    "h0 = ROOT.TH1D(file.Get(plot).Clone())\n",
    "# h0.Scale(sigma*lumi/ N_tthadr)\n",
    "h.Add(h0)"
   ]
  },
  {
   "cell_type": "code",
   "execution_count": 6,
   "id": "366d299a-3e88-4a12-8823-7c9c07b0ee6e",
   "metadata": {},
   "outputs": [
    {
     "data": {
      "text/plain": [
       "True"
      ]
     },
     "execution_count": 6,
     "metadata": {},
     "output_type": "execute_result"
    }
   ],
   "source": [
    "sample = \"TT_semilep_2018\"\n",
    "plot = \"MinDelta_phi_compared_regions_leptonveto\"\n",
    "sigma = sigma_ttsemilep *10**3 #fb\n",
    "lumi = 59.74\n",
    "file = ROOT.TFile.Open(\"./results/run2018_benchmark_v1/plots/\"+sample+\".root\")\n",
    "h1 = file.Get(plot)\n",
    "# h1.Scale(sigma*lumi/ N_ttsemilep)\n",
    "h.Add(h1)\n",
    "sample = \"TT_Mtt700to1000_2018\"\n",
    "plot = \"MinDelta_phi_compared_regions_leptonveto\"\n",
    "sigma = sigma_ttMtt700 *10**3 #fb\n",
    "lumi = 59.74\n",
    "file = ROOT.TFile.Open(\"./results/run2018_benchmark_v1/plots/\"+sample+\".root\")\n",
    "h2 = file.Get(plot)\n",
    "# h2.Scale(sigma*lumi/ N_ttMtt700)\n",
    "h.Add(h2)\n",
    "sample = \"TT_Mtt1000toInf_2018\"\n",
    "plot = \"MinDelta_phi_compared_regions_leptonveto\"\n",
    "sigma = sigma_ttMtt1000 *10**3 #fb\n",
    "lumi = 59.74\n",
    "file = ROOT.TFile.Open(\"./results/run2018_benchmark_v1/plots/\"+sample+\".root\")\n",
    "h3 = file.Get(plot)\n",
    "# h3.Scale(sigma*lumi/ N_ttMtt1000)\n",
    "h.Add(h3)\n",
    "# c1 = ROOT.TCanvas()\n",
    "# c1.Draw()\n",
    "# c1.SetLogy()\n",
    "# h1.Draw()"
   ]
  },
  {
   "cell_type": "code",
   "execution_count": 7,
   "id": "a00aaa9b-5c6e-47c0-917f-5759e54a3e81",
   "metadata": {
    "tags": []
   },
   "outputs": [
    {
     "data": {
      "image/png": "[encoded data removed]",
      "text/plain": [
       "<IPython.core.display.Image object>"
      ]
     },
     "metadata": {},
     "output_type": "display_data"
    }
   ],
   "source": [
    "c1 = ROOT.TCanvas()\n",
    "c1.Draw()\n",
    "c1.SetLogy()\n",
    "h.Draw()"
   ]
  },
  {
   "cell_type": "code",
   "execution_count": 8,
   "id": "6900e6f3-e336-4918-b8cf-0e12024d6ce7",
   "metadata": {},
   "outputs": [],
   "source": [
    "sample = \"TT_Mtt700to1000_2018\"\n",
    "plot = \"MinDelta_phi_compared_regions_leptonveto\"\n",
    "sigma = sigma_ttMtt700 *10**3 #fb\n",
    "lumi = 59.74\n",
    "file = ROOT.TFile.Open(\"./results/run2018_benchmark_v1/plots/\"+sample+\".root\")\n",
    "h2 = file.Get(plot)\n",
    "h2.Scale(sigma*lumi/ N_ttMtt700)\n",
    "sample = \"TT_hadr_2018\"\n",
    "plot = \"MinDelta_phi_compared_regions_leptonveto\"\n",
    "sigma = sigma_ttMtt1000 *10**3 #fb\n",
    "lumi = 59.74\n",
    "file = ROOT.TFile.Open(\"./results/run2018_benchmark_v1/plots/\"+sample+\".root\")\n",
    "h3 = file.Get(plot)\n",
    "h3.Scale(sigma*lumi/ N_ttMtt1000)\n",
    "# c1 = ROOT.TCanvas()\n",
    "# c1.Draw()\n",
    "# c1.SetLogy()\n",
    "# h2.Draw()"
   ]
  },
  {
   "cell_type": "code",
   "execution_count": 9,
   "id": "2e6a2f89-9804-46bc-8d68-76169ca9736c",
   "metadata": {},
   "outputs": [],
   "source": [
    "sample = \"TT_hadr_2018\"\n",
    "plot = \"MinDelta_phi_compared_regions_leptonveto\"\n",
    "sigma = sigma_ttMtt1000 *10**3 #fb\n",
    "lumi = 59.74\n",
    "file = ROOT.TFile.Open(\"./results/run2018_benchmark_v1/plots/\"+sample+\".root\")\n",
    "h3 = file.Get(plot)\n",
    "h3.Scale(sigma*lumi/ N_ttMtt1000)\n",
    "# c1 = ROOT.TCanvas()\n",
    "# c1.Draw()\n",
    "# c1.SetLogy()\n",
    "# h3.Draw()"
   ]
  },
  {
   "cell_type": "code",
   "execution_count": 10,
   "id": "6617ae0d-acd9-47b7-aebe-397424cfee20",
   "metadata": {},
   "outputs": [
    {
     "ename": "AttributeError",
     "evalue": "'CPyCppyy_NoneType' object has no attribute 'Clone'",
     "output_type": "error",
     "traceback": [
      "\u001b[0;31m---------------------------------------------------------------------------\u001b[0m",
      "\u001b[0;31mAttributeError\u001b[0m                            Traceback (most recent call last)",
      "Input \u001b[0;32mIn [10]\u001b[0m, in \u001b[0;36m<cell line: 1>\u001b[0;34m()\u001b[0m\n\u001b[0;32m----> 1\u001b[0m hf \u001b[38;5;241m=\u001b[39m \u001b[43mh0\u001b[49m\u001b[38;5;241;43m.\u001b[39;49m\u001b[43mClone\u001b[49m()\n\u001b[1;32m      2\u001b[0m hf\u001b[38;5;241m.\u001b[39mAdd(h1)\n\u001b[1;32m      3\u001b[0m hf\u001b[38;5;241m.\u001b[39mAdd(h2)\n",
      "\u001b[0;31mAttributeError\u001b[0m: 'CPyCppyy_NoneType' object has no attribute 'Clone'"
     ]
    }
   ],
   "source": [
    "hf = h0.Clone()\n",
    "hf.Add(h1)\n",
    "hf.Add(h2)\n",
    "hf.Add(h3)\n",
    "c1 = ROOT.TCanvas()\n",
    "c1.Draw()\n",
    "hf.Draw()"
   ]
  },
  {
   "cell_type": "code",
   "execution_count": null,
   "id": "6ef8575c-508f-4337-b6e6-f309d9be90f0",
   "metadata": {},
   "outputs": [],
   "source": []
  },
  {
   "cell_type": "code",
   "execution_count": 6,
   "id": "8016ca21-584d-49a4-8836-ef9c9f5ea89b",
   "metadata": {
    "tags": []
   },
   "outputs": [
    {
     "data": {
      "image/png": "[encoded data removed]",
      "text/plain": [
       "<IPython.core.display.Image object>"
      ]
     },
     "metadata": {},
     "output_type": "display_data"
    }
   ],
   "source": [
    "import ROOT\n",
    "sample = \"DataHTA_2018\"\n",
    "plot = \"LeadingMuonPt_pt_compared_regions_leptonveto\"\n",
    "file = ROOT.TFile.Open(\"./results/run2018_benchmark_deb_InvLepVeto/plots/\"+sample+\".root\")\n",
    "h0 = ROOT.TH1D(file.Get(plot).Clone())\n",
    "c1 = ROOT.TCanvas()\n",
    "c1.Draw()\n",
    "c1.SetLogy()\n",
    "h0.Draw()"
   ]
  },
  {
   "cell_type": "code",
   "execution_count": 7,
   "id": "7ec09ee8-196a-4ff2-abdc-9eab005b20be",
   "metadata": {},
   "outputs": [
    {
     "data": {
      "image/png": "[encoded data removed]",
      "text/plain": [
       "<IPython.core.display.Image object>"
      ]
     },
     "metadata": {},
     "output_type": "display_data"
    }
   ],
   "source": [
    "import ROOT\n",
    "sample = \"DataHTA_2018\"\n",
    "plot = \"LeadingElectronPt_pt_compared_regions_leptonveto\"\n",
    "file = ROOT.TFile.Open(\"./results/run2018_benchmark_deb_InvLepVeto/plots/\"+sample+\".root\")\n",
    "h0 = ROOT.TH1D(file.Get(plot).Clone())\n",
    "c1 = ROOT.TCanvas()\n",
    "c1.Draw()\n",
    "c1.SetLogy()\n",
    "h0.Draw()"
   ]
  },
  {
   "cell_type": "code",
   "execution_count": 12,
   "id": "e1179dc6-869e-4e94-8fac-ac364b51d853",
   "metadata": {},
   "outputs": [
    {
     "data": {
      "image/png": "[encoded data removed]",
      "text/plain": [
       "<IPython.core.display.Image object>"
      ]
     },
     "metadata": {},
     "output_type": "display_data"
    }
   ],
   "source": [
    "import ROOT\n",
    "sample = \"DataHT_2018\"\n",
    "plot = \"MinDelta_phi_AH_\"\n",
    "file = ROOT.TFile.Open(\"./results/run2018_EXO22014_presel/plots/\"+sample+\".root\")\n",
    "h0 = ROOT.TH1D(file.Get(plot).Clone())\n",
    "c1 = ROOT.TCanvas()\n",
    "c1.Draw()\n",
    "c1.SetLogy()\n",
    "h0.Draw()"
   ]
  },
  {
   "cell_type": "code",
   "execution_count": 3,
   "id": "0d388a14-7c31-48f5-8f9e-5c4f6442f133",
   "metadata": {},
   "outputs": [
    {
     "data": {
      "image/png": "[encoded data removed]",
      "text/plain": [
       "<IPython.core.display.Image object>"
      ]
     },
     "metadata": {},
     "output_type": "display_data"
    }
   ],
   "source": [
    "import ROOT\n",
    "sample = \"DataHTA_2018\"\n",
    "plot = \"PuppiMET_pt_AH_\"\n",
    "file = ROOT.TFile.Open(\"./results/run2018_EXO22014_presel/plots/\"+sample+\".root\")\n",
    "h0 = ROOT.TH1D(file.Get(plot).Clone())\n",
    "c1 = ROOT.TCanvas()\n",
    "c1.Draw()\n",
    "c1.SetLogy()\n",
    "h0.Draw()"
   ]
  },
  {
   "cell_type": "code",
   "execution_count": 16,
   "id": "6b22aaa9-0c31-4a2a-a3c1-0b03c4098197",
   "metadata": {},
   "outputs": [
    {
     "data": {
      "image/png": "[encoded data removed]",
      "text/plain": [
       "<IPython.core.display.Image object>"
      ]
     },
     "metadata": {},
     "output_type": "display_data"
    }
   ],
   "source": [
    "import ROOT\n",
    "sample = \"DataHTA_2018\"\n",
    "plot = \"MET_pt_HEMVeto_MET_filters_2_\"\n",
    "file = ROOT.TFile.Open(\"./results/run2018_EXO22014_presel/plots/\"+sample+\".root\")\n",
    "h0 = ROOT.TH1D(file.Get(plot).Clone())\n",
    "c1 = ROOT.TCanvas()\n",
    "c1.Draw()\n",
    "c1.SetLogy()\n",
    "h0.Draw()"
   ]
  },
  {
   "cell_type": "code",
   "execution_count": 25,
   "id": "fc502d31-cb75-43b1-94de-28702f3960a0",
   "metadata": {},
   "outputs": [
    {
     "data": {
      "image/png": "[encoded data removed]",
      "text/plain": [
       "<IPython.core.display.Image object>"
      ]
     },
     "metadata": {},
     "output_type": "display_data"
    }
   ],
   "source": [
    "import ROOT\n",
    "sample = \"DataHTA_2018\"\n",
    "plot = \"MET_pt_HEMVeto_HLT_MET_filters_2_\"\n",
    "file = ROOT.TFile.Open(\"./results/run2018_EXO22014_presel/plots/\"+sample+\".root\")\n",
    "h0 = ROOT.TH1D(file.Get(plot).Clone())\n",
    "c1 = ROOT.TCanvas()\n",
    "c1.Draw()\n",
    "c1.SetLogy()\n",
    "h0.Draw()"
   ]
  },
  {
   "cell_type": "code",
   "execution_count": 2,
   "id": "32cf0a9d-9f7a-4ad4-9753-ccfb76d2d560",
   "metadata": {},
   "outputs": [
    {
     "data": {
      "image/png": "[encoded data removed]",
      "text/plain": [
       "<IPython.core.display.Image object>"
      ]
     },
     "metadata": {},
     "output_type": "display_data"
    }
   ],
   "source": [
    "import ROOT\n",
    "sample = \"DataHTA_2018\"\n",
    "var = \"MET_pt\"\n",
    "reg = \"HEMVeto_HLT_MET_filters\"\n",
    "plot = var+\"_\"+reg+\"_\"\n",
    "\n",
    "file = ROOT.TFile.Open(\"./results/run2018_EXO22014_presel_v1/plots/\"+sample+\".root\")\n",
    "h0 = ROOT.TH1D(file.Get(plot).Clone())\n",
    "c1 = ROOT.TCanvas()\n",
    "c1.Draw()\n",
    "c1.SetLogy()\n",
    "\n",
    "h0.Draw()"
   ]
  },
  {
   "cell_type": "code",
   "execution_count": 1,
   "id": "a8f6c337-7491-4222-ab61-24eb98a4cdb0",
   "metadata": {},
   "outputs": [
    {
     "name": "stdout",
     "output_type": "stream",
     "text": [
      "Welcome to JupyROOT 6.27/01\n"
     ]
    },
    {
     "data": {
      "image/png": "[encoded data removed]",
      "text/plain": [
       "<IPython.core.display.Image object>"
      ]
     },
     "metadata": {},
     "output_type": "display_data"
    }
   ],
   "source": [
    "import ROOT\n",
    "sample = \"DataHTA_2018\"\n",
    "var = \"MET_pt\"\n",
    "reg = \"HEMVeto_HLT3_MET_filters\"\n",
    "plot = var+\"_\"+reg+\"_\"\n",
    "\n",
    "file = ROOT.TFile.Open(\"./results/run2018_EXO22014_presel_v1/plots/\"+sample+\".root\")\n",
    "h0 = ROOT.TH1D(file.Get(plot).Clone())\n",
    "c1 = ROOT.TCanvas()\n",
    "c1.Draw()\n",
    "c1.SetLogy()\n",
    "\n",
    "h0.Draw()"
   ]
  },
  {
   "cell_type": "code",
   "execution_count": 13,
   "id": "03c334f2-2a24-4095-a3b2-1a57e05b110b",
   "metadata": {},
   "outputs": [
    {
     "data": {
      "image/png": "[encoded data removed]",
      "text/plain": [
       "<IPython.core.display.Image object>"
      ]
     },
     "metadata": {},
     "output_type": "display_data"
    }
   ],
   "source": [
    "import ROOT\n",
    "sample = \"DataMETA_2018\"\n",
    "var = \"MET_pt\"\n",
    "reg = \"HEMVeto_HLT3_MET_filters\"\n",
    "plot = var+\"_\"+reg+\"_\"\n",
    "\n",
    "file = ROOT.TFile.Open(\"./results/run2018_EXO22014_presel_v1/plots/\"+sample+\".root\")\n",
    "h0 = ROOT.TH1D(file.Get(plot).Clone())\n",
    "c1 = ROOT.TCanvas()\n",
    "c1.Draw()\n",
    "c1.SetLogy()\n",
    "\n",
    "h0.Draw()"
   ]
  },
  {
   "cell_type": "code",
   "execution_count": 18,
   "id": "7f9468f6-b3e8-47d3-bd82-7795ff6b5f78",
   "metadata": {},
   "outputs": [
    {
     "data": {
      "image/png": "[encoded data removed]",
      "text/plain": [
       "<IPython.core.display.Image object>"
      ]
     },
     "metadata": {},
     "output_type": "display_data"
    }
   ],
   "source": [
    "import ROOT\n",
    "sample = \"DataHTA_2018\"\n",
    "var = \"MET_pt\"\n",
    "reg = \"HEMVeto_HLT3_MET_filters\"\n",
    "plot = var+\"_\"+reg+\"_\"\n",
    "\n",
    "file = ROOT.TFile.Open(\"./results/local5files_test/plots/\"+sample+\".root\")\n",
    "h0 = ROOT.TH1D(file.Get(plot).Clone())\n",
    "c1 = ROOT.TCanvas()\n",
    "c1.Draw()\n",
    "c1.SetLogy()\n",
    "\n",
    "h0.Draw()"
   ]
  },
  {
   "cell_type": "code",
   "execution_count": 19,
   "id": "a5af7ab5-cebc-42e9-81ec-f225ffd51b72",
   "metadata": {},
   "outputs": [
    {
     "data": {
      "image/png": "[encoded data removed]",
      "text/plain": [
       "<IPython.core.display.Image object>"
      ]
     },
     "metadata": {},
     "output_type": "display_data"
    }
   ],
   "source": [
    "import ROOT\n",
    "sample = \"DataHTA_2018\"\n",
    "var = \"MET_pt\"\n",
    "reg = \"HEMVeto_HLT3_MET_filters\"\n",
    "plot = var+\"_\"+reg+\"_\"\n",
    "\n",
    "file = ROOT.TFile.Open(\"./results/distbuited5files_test/plots/\"+sample+\".root\")\n",
    "h0 = ROOT.TH1D(file.Get(plot).Clone())\n",
    "c1 = ROOT.TCanvas()\n",
    "c1.Draw()\n",
    "c1.SetLogy()\n",
    "\n",
    "h0.Draw()"
   ]
  },
  {
   "cell_type": "code",
   "execution_count": 22,
   "id": "08e44b3c-8a8f-4603-a8b5-d2535af138ed",
   "metadata": {},
   "outputs": [],
   "source": [
    "import ROOT\n",
    "file = \"./results/distbuited5files_test/snap/DataHTA_2018.root\"\n",
    "f = ROOT.TFile.Open(file)\n",
    "tree = f.Get(\"tree\")"
   ]
  },
  {
   "cell_type": "code",
   "execution_count": 6,
   "id": "3e11a06e-f07d-4cc5-8e93-4193b690f286",
   "metadata": {},
   "outputs": [
    {
     "data": {
      "image/png": "[encoded data removed]",
      "text/plain": [
       "<IPython.core.display.Image object>"
      ]
     },
     "metadata": {},
     "output_type": "display_data"
    }
   ],
   "source": [
    "import ROOT\n",
    "sample = \"DataHTA_2018\"\n",
    "var = \"MET_pt\"\n",
    "reg = \"HEMVeto_HLTmet\"\n",
    "plot = var+\"_\"+reg+\"_\"\n",
    "\n",
    "file = ROOT.TFile.Open(\"./results/run2018_EXO22014_v2/plots/\"+sample+\".root\")\n",
    "h0 = ROOT.TH1D(file.Get(plot).Clone())\n",
    "c1 = ROOT.TCanvas()\n",
    "c1.Draw()\n",
    "c1.SetLogy()\n",
    "\n",
    "h0.Draw(\"E\")"
   ]
  },
  {
   "cell_type": "code",
   "execution_count": 7,
   "id": "18b849b6-0247-499a-a271-94ab74a0e33d",
   "metadata": {},
   "outputs": [
    {
     "data": {
      "image/png": "[encoded data removed]",
      "text/plain": [
       "<IPython.core.display.Image object>"
      ]
     },
     "metadata": {},
     "output_type": "display_data"
    }
   ],
   "source": [
    "import ROOT\n",
    "sample = \"DataHTA_2018\"\n",
    "var = \"MET_pt\"\n",
    "reg = \"HEMVeto_HLTmet\"\n",
    "plot = var+\"_\"+reg+\"_\"\n",
    "\n",
    "file0 = ROOT.TFile.Open(\"./results/firstfileLocal/plots/\"+sample+\".root\")\n",
    "h0 = ROOT.TH1D(file0.Get(plot).Clone())\n",
    "file1 = ROOT.TFile.Open(\"./results/secondfileLocal/plots/\"+sample+\".root\")\n",
    "h1 = ROOT.TH1D(file1.Get(plot).Clone())\n",
    "h0.Add(h1)\n",
    "\n",
    "c1 = ROOT.TCanvas()\n",
    "c1.Draw()\n",
    "c1.SetLogy()\n",
    "\n",
    "h0.Draw(\"E\")"
   ]
  },
  {
   "cell_type": "code",
   "execution_count": 8,
   "id": "47184782-89f4-4d36-a1a6-0d6b4a26bc8b",
   "metadata": {},
   "outputs": [
    {
     "data": {
      "image/png": "[encoded data removed]",
      "text/plain": [
       "<IPython.core.display.Image object>"
      ]
     },
     "metadata": {},
     "output_type": "display_data"
    }
   ],
   "source": [
    "import ROOT\n",
    "sample = \"DataHTA_2018\"\n",
    "var = \"MET_pt\"\n",
    "reg = \"HEMVeto_HLTmet\"\n",
    "plot = var+\"_\"+reg+\"_\"\n",
    "\n",
    "file = ROOT.TFile.Open(\"./results/1&2_distr/plots/\"+sample+\".root\")\n",
    "h0 = ROOT.TH1D(file.Get(plot).Clone())\n",
    "c1 = ROOT.TCanvas()\n",
    "c1.Draw()\n",
    "c1.SetLogy()\n",
    "\n",
    "h0.Draw(\"E\")"
   ]
  },
  {
   "cell_type": "code",
   "execution_count": 1,
   "id": "687ce503-bb20-47fa-b6e2-fc289e9fb3bf",
   "metadata": {},
   "outputs": [
    {
     "name": "stdout",
     "output_type": "stream",
     "text": [
      "Welcome to JupyROOT 6.27/01\n"
     ]
    },
    {
     "ename": "ReferenceError",
     "evalue": "attempt to access a null-pointer",
     "output_type": "error",
     "traceback": [
      "\u001b[0;31m---------------------------------------------------------------------------\u001b[0m",
      "\u001b[0;31mReferenceError\u001b[0m                            Traceback (most recent call last)",
      "Input \u001b[0;32mIn [1]\u001b[0m, in \u001b[0;36m<cell line: 6>\u001b[0;34m()\u001b[0m\n\u001b[1;32m      3\u001b[0m sample \u001b[38;5;241m=\u001b[39m \u001b[38;5;124m\"\u001b[39m\u001b[38;5;124mDataHTA_2018\u001b[39m\u001b[38;5;124m\"\u001b[39m\n\u001b[1;32m      5\u001b[0m file \u001b[38;5;241m=\u001b[39m ROOT\u001b[38;5;241m.\u001b[39mTFile\u001b[38;5;241m.\u001b[39mOpen(\u001b[38;5;124m\"\u001b[39m\u001b[38;5;124m./results/crabcheck/plots/\u001b[39m\u001b[38;5;124m\"\u001b[39m\u001b[38;5;241m+\u001b[39msample\u001b[38;5;241m+\u001b[39m\u001b[38;5;124m\"\u001b[39m\u001b[38;5;124m.root\u001b[39m\u001b[38;5;124m\"\u001b[39m)\n\u001b[0;32m----> 6\u001b[0m h0 \u001b[38;5;241m=\u001b[39m ROOT\u001b[38;5;241m.\u001b[39mTH1D(\u001b[43mfile\u001b[49m\u001b[38;5;241;43m.\u001b[39;49m\u001b[43mGet\u001b[49m\u001b[43m(\u001b[49m\u001b[38;5;124;43m\"\u001b[39;49m\u001b[38;5;124;43mMinDelta_phi_HEMVeto_HLTmu_ \u001b[39;49m\u001b[38;5;124;43m\"\u001b[39;49m\u001b[43m)\u001b[49m\u001b[38;5;241;43m.\u001b[39;49m\u001b[43mClone\u001b[49m\u001b[43m(\u001b[49m\u001b[43m)\u001b[49m)\n\u001b[1;32m      7\u001b[0m c1 \u001b[38;5;241m=\u001b[39m ROOT\u001b[38;5;241m.\u001b[39mTCanvas()\n\u001b[1;32m      8\u001b[0m c1\u001b[38;5;241m.\u001b[39mDraw()\n",
      "\u001b[0;31mReferenceError\u001b[0m: attempt to access a null-pointer"
     ]
    }
   ],
   "source": [
    "# %jsroot on\n",
    "import ROOT\n",
    "sample = \"DataHTA_2018\"\n",
    "\n",
    "file = ROOT.TFile.Open(\"./results/crabcheck/plots/\"+sample+\".root\")\n",
    "h0 = ROOT.TH1D(file.Get(\"MinDelta_phi_HEMVeto_HLTmu_ \").Clone())\n",
    "c1 = ROOT.TCanvas()\n",
    "c1.Draw()\n",
    "\n",
    "h0.Draw()"
   ]
  },
  {
   "cell_type": "code",
   "execution_count": 3,
   "id": "98575e59-13d5-4e77-977e-4bc8614fbc9b",
   "metadata": {},
   "outputs": [
    {
     "name": "stdout",
     "output_type": "stream",
     "text": [
      "Name: MET_pt_NoCut_ Title:  \n",
      "Name: MET_phi_NoCut_ Title:  \n",
      "Name: PuppiMET_pt_NoCut_ Title:  \n",
      "Name: LeadingJetPt_pt_NoCut_ Title:  \n",
      "Name: LeadingFatJetPt_pt_NoCut_ Title:  \n",
      "Name: LeadingMuonPt_pt_NoCut_ Title:  \n",
      "Name: LeadingElectronPt_pt_NoCut_ Title:  \n",
      "Name: nJet_NoCut_ Title:  \n",
      "Name: nJetBtag_NoCut_ Title:  \n",
      "Name: nFatJet_NoCut_ Title:  \n",
      "Name: MinDelta_phi_NoCut_ Title:  \n",
      "Name: MaxEta_jet_NoCut_ Title:  \n",
      "Name: HT_eventHT_NoCut_ Title:  \n",
      "Name: PV_npvsGood_NoCut_ Title:  \n",
      "Name: MET_pt_HEMVeto_HLTmet_ Title:  \n",
      "Name: MET_phi_HEMVeto_HLTmet_ Title:  \n",
      "Name: PuppiMET_pt_HEMVeto_HLTmet_ Title:  \n",
      "Name: LeadingJetPt_pt_HEMVeto_HLTmet_ Title:  \n",
      "Name: LeadingFatJetPt_pt_HEMVeto_HLTmet_ Title:  \n",
      "Name: LeadingMuonPt_pt_HEMVeto_HLTmet_ Title:  \n",
      "Name: LeadingElectronPt_pt_HEMVeto_HLTmet_ Title:  \n",
      "Name: nJet_HEMVeto_HLTmet_ Title:  \n",
      "Name: nJetBtag_HEMVeto_HLTmet_ Title:  \n",
      "Name: nFatJet_HEMVeto_HLTmet_ Title:  \n",
      "Name: MinDelta_phi_HEMVeto_HLTmet_ Title:  \n",
      "Name: MaxEta_jet_HEMVeto_HLTmet_ Title:  \n",
      "Name: HT_eventHT_HEMVeto_HLTmet_ Title:  \n",
      "Name: PV_npvsGood_HEMVeto_HLTmet_ Title:  \n",
      "Name: MET_pt_HEMVeto_HLTmu_ Title:  \n",
      "Name: MET_phi_HEMVeto_HLTmu_ Title:  \n",
      "Name: PuppiMET_pt_HEMVeto_HLTmu_ Title:  \n",
      "Name: LeadingJetPt_pt_HEMVeto_HLTmu_ Title:  \n",
      "Name: LeadingFatJetPt_pt_HEMVeto_HLTmu_ Title:  \n",
      "Name: LeadingMuonPt_pt_HEMVeto_HLTmu_ Title:  \n",
      "Name: LeadingElectronPt_pt_HEMVeto_HLTmu_ Title:  \n",
      "Name: nJet_HEMVeto_HLTmu_ Title:  \n",
      "Name: nJetBtag_HEMVeto_HLTmu_ Title:  \n",
      "Name: nFatJet_HEMVeto_HLTmu_ Title:  \n",
      "Name: MinDelta_phi_HEMVeto_HLTmu_ Title:  \n",
      "Name: MaxEta_jet_HEMVeto_HLTmu_ Title:  \n",
      "Name: HT_eventHT_HEMVeto_HLTmu_ Title:  \n",
      "Name: PV_npvsGood_HEMVeto_HLTmu_ Title:  \n",
      "Name: MET_pt_HEMVeto_HLT_ Title:  \n",
      "Name: MET_phi_HEMVeto_HLT_ Title:  \n",
      "Name: PuppiMET_pt_HEMVeto_HLT_ Title:  \n",
      "Name: LeadingJetPt_pt_HEMVeto_HLT_ Title:  \n",
      "Name: LeadingFatJetPt_pt_HEMVeto_HLT_ Title:  \n",
      "Name: LeadingMuonPt_pt_HEMVeto_HLT_ Title:  \n",
      "Name: LeadingElectronPt_pt_HEMVeto_HLT_ Title:  \n",
      "Name: nJet_HEMVeto_HLT_ Title:  \n",
      "Name: nJetBtag_HEMVeto_HLT_ Title:  \n",
      "Name: nFatJet_HEMVeto_HLT_ Title:  \n",
      "Name: MinDelta_phi_HEMVeto_HLT_ Title:  \n",
      "Name: MaxEta_jet_HEMVeto_HLT_ Title:  \n",
      "Name: HT_eventHT_HEMVeto_HLT_ Title:  \n",
      "Name: PV_npvsGood_HEMVeto_HLT_ Title:  \n",
      "Name: MET_pt_HEMVeto_HLTmet_METfilt_ Title:  \n",
      "Name: MET_phi_HEMVeto_HLTmet_METfilt_ Title:  \n",
      "Name: PuppiMET_pt_HEMVeto_HLTmet_METfilt_ Title:  \n",
      "Name: LeadingJetPt_pt_HEMVeto_HLTmet_METfilt_ Title:  \n",
      "Name: LeadingFatJetPt_pt_HEMVeto_HLTmet_METfilt_ Title:  \n",
      "Name: LeadingMuonPt_pt_HEMVeto_HLTmet_METfilt_ Title:  \n",
      "Name: LeadingElectronPt_pt_HEMVeto_HLTmet_METfilt_ Title:  \n",
      "Name: nJet_HEMVeto_HLTmet_METfilt_ Title:  \n",
      "Name: nJetBtag_HEMVeto_HLTmet_METfilt_ Title:  \n",
      "Name: nFatJet_HEMVeto_HLTmet_METfilt_ Title:  \n",
      "Name: MinDelta_phi_HEMVeto_HLTmet_METfilt_ Title:  \n",
      "Name: MaxEta_jet_HEMVeto_HLTmet_METfilt_ Title:  \n",
      "Name: HT_eventHT_HEMVeto_HLTmet_METfilt_ Title:  \n",
      "Name: PV_npvsGood_HEMVeto_HLTmet_METfilt_ Title:  \n",
      "Name: MET_pt_HEMVeto_HLTmu_METfilt_ Title:  \n",
      "Name: MET_phi_HEMVeto_HLTmu_METfilt_ Title:  \n",
      "Name: PuppiMET_pt_HEMVeto_HLTmu_METfilt_ Title:  \n",
      "Name: LeadingJetPt_pt_HEMVeto_HLTmu_METfilt_ Title:  \n",
      "Name: LeadingFatJetPt_pt_HEMVeto_HLTmu_METfilt_ Title:  \n",
      "Name: LeadingMuonPt_pt_HEMVeto_HLTmu_METfilt_ Title:  \n",
      "Name: LeadingElectronPt_pt_HEMVeto_HLTmu_METfilt_ Title:  \n",
      "Name: nJet_HEMVeto_HLTmu_METfilt_ Title:  \n",
      "Name: nJetBtag_HEMVeto_HLTmu_METfilt_ Title:  \n",
      "Name: nFatJet_HEMVeto_HLTmu_METfilt_ Title:  \n",
      "Name: MinDelta_phi_HEMVeto_HLTmu_METfilt_ Title:  \n",
      "Name: MaxEta_jet_HEMVeto_HLTmu_METfilt_ Title:  \n",
      "Name: HT_eventHT_HEMVeto_HLTmu_METfilt_ Title:  \n",
      "Name: PV_npvsGood_HEMVeto_HLTmu_METfilt_ Title:  \n",
      "Name: MET_pt_HEMVeto_HLT_METfilt_ Title:  \n",
      "Name: MET_phi_HEMVeto_HLT_METfilt_ Title:  \n",
      "Name: PuppiMET_pt_HEMVeto_HLT_METfilt_ Title:  \n",
      "Name: LeadingJetPt_pt_HEMVeto_HLT_METfilt_ Title:  \n",
      "Name: LeadingFatJetPt_pt_HEMVeto_HLT_METfilt_ Title:  \n",
      "Name: LeadingMuonPt_pt_HEMVeto_HLT_METfilt_ Title:  \n",
      "Name: LeadingElectronPt_pt_HEMVeto_HLT_METfilt_ Title:  \n",
      "Name: nJet_HEMVeto_HLT_METfilt_ Title:  \n",
      "Name: nJetBtag_HEMVeto_HLT_METfilt_ Title:  \n",
      "Name: nFatJet_HEMVeto_HLT_METfilt_ Title:  \n",
      "Name: MinDelta_phi_HEMVeto_HLT_METfilt_ Title:  \n",
      "Name: MaxEta_jet_HEMVeto_HLT_METfilt_ Title:  \n",
      "Name: HT_eventHT_HEMVeto_HLT_METfilt_ Title:  \n",
      "Name: PV_npvsGood_HEMVeto_HLT_METfilt_ Title:  \n",
      "Name: MET_pt_HEMVeto_HLTmet_METcut_ Title:  \n",
      "Name: MET_phi_HEMVeto_HLTmet_METcut_ Title:  \n",
      "Name: PuppiMET_pt_HEMVeto_HLTmet_METcut_ Title:  \n",
      "Name: LeadingJetPt_pt_HEMVeto_HLTmet_METcut_ Title:  \n",
      "Name: LeadingFatJetPt_pt_HEMVeto_HLTmet_METcut_ Title:  \n",
      "Name: LeadingMuonPt_pt_HEMVeto_HLTmet_METcut_ Title:  \n",
      "Name: LeadingElectronPt_pt_HEMVeto_HLTmet_METcut_ Title:  \n",
      "Name: nJet_HEMVeto_HLTmet_METcut_ Title:  \n",
      "Name: nJetBtag_HEMVeto_HLTmet_METcut_ Title:  \n",
      "Name: nFatJet_HEMVeto_HLTmet_METcut_ Title:  \n",
      "Name: MinDelta_phi_HEMVeto_HLTmet_METcut_ Title:  \n",
      "Name: MaxEta_jet_HEMVeto_HLTmet_METcut_ Title:  \n",
      "Name: HT_eventHT_HEMVeto_HLTmet_METcut_ Title:  \n",
      "Name: PV_npvsGood_HEMVeto_HLTmet_METcut_ Title:  \n",
      "Name: MET_pt_HEMVeto_HLTmu_METcut_ Title:  \n",
      "Name: MET_phi_HEMVeto_HLTmu_METcut_ Title:  \n",
      "Name: PuppiMET_pt_HEMVeto_HLTmu_METcut_ Title:  \n",
      "Name: LeadingJetPt_pt_HEMVeto_HLTmu_METcut_ Title:  \n",
      "Name: LeadingFatJetPt_pt_HEMVeto_HLTmu_METcut_ Title:  \n",
      "Name: LeadingMuonPt_pt_HEMVeto_HLTmu_METcut_ Title:  \n",
      "Name: LeadingElectronPt_pt_HEMVeto_HLTmu_METcut_ Title:  \n",
      "Name: nJet_HEMVeto_HLTmu_METcut_ Title:  \n",
      "Name: nJetBtag_HEMVeto_HLTmu_METcut_ Title:  \n",
      "Name: nFatJet_HEMVeto_HLTmu_METcut_ Title:  \n",
      "Name: MinDelta_phi_HEMVeto_HLTmu_METcut_ Title:  \n",
      "Name: MaxEta_jet_HEMVeto_HLTmu_METcut_ Title:  \n",
      "Name: HT_eventHT_HEMVeto_HLTmu_METcut_ Title:  \n",
      "Name: PV_npvsGood_HEMVeto_HLTmu_METcut_ Title:  \n",
      "Name: MET_pt_HEMVeto_HLT_METcut_ Title:  \n",
      "Name: MET_phi_HEMVeto_HLT_METcut_ Title:  \n",
      "Name: PuppiMET_pt_HEMVeto_HLT_METcut_ Title:  \n",
      "Name: LeadingJetPt_pt_HEMVeto_HLT_METcut_ Title:  \n",
      "Name: LeadingFatJetPt_pt_HEMVeto_HLT_METcut_ Title:  \n",
      "Name: LeadingMuonPt_pt_HEMVeto_HLT_METcut_ Title:  \n",
      "Name: LeadingElectronPt_pt_HEMVeto_HLT_METcut_ Title:  \n",
      "Name: nJet_HEMVeto_HLT_METcut_ Title:  \n",
      "Name: nJetBtag_HEMVeto_HLT_METcut_ Title:  \n",
      "Name: nFatJet_HEMVeto_HLT_METcut_ Title:  \n",
      "Name: MinDelta_phi_HEMVeto_HLT_METcut_ Title:  \n",
      "Name: MaxEta_jet_HEMVeto_HLT_METcut_ Title:  \n",
      "Name: HT_eventHT_HEMVeto_HLT_METcut_ Title:  \n",
      "Name: PV_npvsGood_HEMVeto_HLT_METcut_ Title:  \n",
      "Name: MET_pt_AH_HLT_ Title:  \n",
      "Name: MET_phi_AH_HLT_ Title:  \n",
      "Name: PuppiMET_pt_AH_HLT_ Title:  \n",
      "Name: LeadingJetPt_pt_AH_HLT_ Title:  \n",
      "Name: LeadingFatJetPt_pt_AH_HLT_ Title:  \n",
      "Name: LeadingMuonPt_pt_AH_HLT_ Title:  \n",
      "Name: LeadingElectronPt_pt_AH_HLT_ Title:  \n",
      "Name: nJet_AH_HLT_ Title:  \n",
      "Name: nJetBtag_AH_HLT_ Title:  \n",
      "Name: nFatJet_AH_HLT_ Title:  \n",
      "Name: MinDelta_phi_AH_HLT_ Title:  \n",
      "Name: MaxEta_jet_AH_HLT_ Title:  \n",
      "Name: HT_eventHT_AH_HLT_ Title:  \n",
      "Name: PV_npvsGood_AH_HLT_ Title:  \n",
      "Name: MET_pt_AH1lWRmu_HLT_ Title:  \n",
      "Name: MET_phi_AH1lWRmu_HLT_ Title:  \n",
      "Name: PuppiMET_pt_AH1lWRmu_HLT_ Title:  \n",
      "Name: LeadingJetPt_pt_AH1lWRmu_HLT_ Title:  \n",
      "Name: LeadingFatJetPt_pt_AH1lWRmu_HLT_ Title:  \n",
      "Name: LeadingMuonPt_pt_AH1lWRmu_HLT_ Title:  \n",
      "Name: LeadingElectronPt_pt_AH1lWRmu_HLT_ Title:  \n",
      "Name: nJet_AH1lWRmu_HLT_ Title:  \n",
      "Name: nJetBtag_AH1lWRmu_HLT_ Title:  \n",
      "Name: nFatJet_AH1lWRmu_HLT_ Title:  \n",
      "Name: MinDelta_phi_AH1lWRmu_HLT_ Title:  \n",
      "Name: MaxEta_jet_AH1lWRmu_HLT_ Title:  \n",
      "Name: HT_eventHT_AH1lWRmu_HLT_ Title:  \n",
      "Name: PV_npvsGood_AH1lWRmu_HLT_ Title:  \n",
      "Name: MET_pt_SL_HLT_ Title:  \n",
      "Name: MET_phi_SL_HLT_ Title:  \n",
      "Name: PuppiMET_pt_SL_HLT_ Title:  \n",
      "Name: LeadingJetPt_pt_SL_HLT_ Title:  \n",
      "Name: LeadingFatJetPt_pt_SL_HLT_ Title:  \n",
      "Name: LeadingMuonPt_pt_SL_HLT_ Title:  \n",
      "Name: LeadingElectronPt_pt_SL_HLT_ Title:  \n",
      "Name: nJet_SL_HLT_ Title:  \n",
      "Name: nJetBtag_SL_HLT_ Title:  \n",
      "Name: nFatJet_SL_HLT_ Title:  \n",
      "Name: MinDelta_phi_SL_HLT_ Title:  \n",
      "Name: MaxEta_jet_SL_HLT_ Title:  \n",
      "Name: HT_eventHT_SL_HLT_ Title:  \n",
      "Name: PV_npvsGood_SL_HLT_ Title:  \n",
      "Name: MET_pt_AH_HLTmet_ Title:  \n",
      "Name: MET_phi_AH_HLTmet_ Title:  \n",
      "Name: PuppiMET_pt_AH_HLTmet_ Title:  \n",
      "Name: LeadingJetPt_pt_AH_HLTmet_ Title:  \n",
      "Name: LeadingFatJetPt_pt_AH_HLTmet_ Title:  \n",
      "Name: LeadingMuonPt_pt_AH_HLTmet_ Title:  \n",
      "Name: LeadingElectronPt_pt_AH_HLTmet_ Title:  \n",
      "Name: nJet_AH_HLTmet_ Title:  \n",
      "Name: nJetBtag_AH_HLTmet_ Title:  \n",
      "Name: nFatJet_AH_HLTmet_ Title:  \n",
      "Name: MinDelta_phi_AH_HLTmet_ Title:  \n",
      "Name: MaxEta_jet_AH_HLTmet_ Title:  \n",
      "Name: HT_eventHT_AH_HLTmet_ Title:  \n",
      "Name: PV_npvsGood_AH_HLTmet_ Title:  \n",
      "Name: MET_pt_AH1lWRmu_HLTmet_ Title:  \n",
      "Name: MET_phi_AH1lWRmu_HLTmet_ Title:  \n",
      "Name: PuppiMET_pt_AH1lWRmu_HLTmet_ Title:  \n",
      "Name: LeadingJetPt_pt_AH1lWRmu_HLTmet_ Title:  \n",
      "Name: LeadingFatJetPt_pt_AH1lWRmu_HLTmet_ Title:  \n",
      "Name: LeadingMuonPt_pt_AH1lWRmu_HLTmet_ Title:  \n",
      "Name: LeadingElectronPt_pt_AH1lWRmu_HLTmet_ Title:  \n",
      "Name: nJet_AH1lWRmu_HLTmet_ Title:  \n",
      "Name: nJetBtag_AH1lWRmu_HLTmet_ Title:  \n",
      "Name: nFatJet_AH1lWRmu_HLTmet_ Title:  \n",
      "Name: MinDelta_phi_AH1lWRmu_HLTmet_ Title:  \n",
      "Name: MaxEta_jet_AH1lWRmu_HLTmet_ Title:  \n",
      "Name: HT_eventHT_AH1lWRmu_HLTmet_ Title:  \n",
      "Name: PV_npvsGood_AH1lWRmu_HLTmet_ Title:  \n",
      "Name: MET_pt_SL_HLTmet_ Title:  \n",
      "Name: MET_phi_SL_HLTmet_ Title:  \n",
      "Name: PuppiMET_pt_SL_HLTmet_ Title:  \n",
      "Name: LeadingJetPt_pt_SL_HLTmet_ Title:  \n",
      "Name: LeadingFatJetPt_pt_SL_HLTmet_ Title:  \n",
      "Name: LeadingMuonPt_pt_SL_HLTmet_ Title:  \n",
      "Name: LeadingElectronPt_pt_SL_HLTmet_ Title:  \n",
      "Name: nJet_SL_HLTmet_ Title:  \n",
      "Name: nJetBtag_SL_HLTmet_ Title:  \n",
      "Name: nFatJet_SL_HLTmet_ Title:  \n",
      "Name: MinDelta_phi_SL_HLTmet_ Title:  \n",
      "Name: MaxEta_jet_SL_HLTmet_ Title:  \n",
      "Name: HT_eventHT_SL_HLTmet_ Title:  \n",
      "Name: PV_npvsGood_SL_HLTmet_ Title:  \n",
      "Name: MET_pt_AH_HLTmu_ Title:  \n",
      "Name: MET_phi_AH_HLTmu_ Title:  \n",
      "Name: PuppiMET_pt_AH_HLTmu_ Title:  \n",
      "Name: LeadingJetPt_pt_AH_HLTmu_ Title:  \n",
      "Name: LeadingFatJetPt_pt_AH_HLTmu_ Title:  \n",
      "Name: LeadingMuonPt_pt_AH_HLTmu_ Title:  \n",
      "Name: LeadingElectronPt_pt_AH_HLTmu_ Title:  \n",
      "Name: nJet_AH_HLTmu_ Title:  \n",
      "Name: nJetBtag_AH_HLTmu_ Title:  \n",
      "Name: nFatJet_AH_HLTmu_ Title:  \n",
      "Name: MinDelta_phi_AH_HLTmu_ Title:  \n",
      "Name: MaxEta_jet_AH_HLTmu_ Title:  \n",
      "Name: HT_eventHT_AH_HLTmu_ Title:  \n",
      "Name: PV_npvsGood_AH_HLTmu_ Title:  \n",
      "Name: MET_pt_AH1lWRmu_HLTmu_ Title:  \n",
      "Name: MET_phi_AH1lWRmu_HLTmu_ Title:  \n",
      "Name: PuppiMET_pt_AH1lWRmu_HLTmu_ Title:  \n",
      "Name: LeadingJetPt_pt_AH1lWRmu_HLTmu_ Title:  \n",
      "Name: LeadingFatJetPt_pt_AH1lWRmu_HLTmu_ Title:  \n",
      "Name: LeadingMuonPt_pt_AH1lWRmu_HLTmu_ Title:  \n",
      "Name: LeadingElectronPt_pt_AH1lWRmu_HLTmu_ Title:  \n",
      "Name: nJet_AH1lWRmu_HLTmu_ Title:  \n",
      "Name: nJetBtag_AH1lWRmu_HLTmu_ Title:  \n",
      "Name: nFatJet_AH1lWRmu_HLTmu_ Title:  \n",
      "Name: MinDelta_phi_AH1lWRmu_HLTmu_ Title:  \n",
      "Name: MaxEta_jet_AH1lWRmu_HLTmu_ Title:  \n",
      "Name: HT_eventHT_AH1lWRmu_HLTmu_ Title:  \n",
      "Name: PV_npvsGood_AH1lWRmu_HLTmu_ Title:  \n",
      "Name: MET_pt_SL_HLTmu_ Title:  \n",
      "Name: MET_phi_SL_HLTmu_ Title:  \n",
      "Name: PuppiMET_pt_SL_HLTmu_ Title:  \n",
      "Name: LeadingJetPt_pt_SL_HLTmu_ Title:  \n",
      "Name: LeadingFatJetPt_pt_SL_HLTmu_ Title:  \n",
      "Name: LeadingMuonPt_pt_SL_HLTmu_ Title:  \n",
      "Name: LeadingElectronPt_pt_SL_HLTmu_ Title:  \n",
      "Name: nJet_SL_HLTmu_ Title:  \n",
      "Name: nJetBtag_SL_HLTmu_ Title:  \n",
      "Name: nFatJet_SL_HLTmu_ Title:  \n",
      "Name: MinDelta_phi_SL_HLTmu_ Title:  \n",
      "Name: MaxEta_jet_SL_HLTmu_ Title:  \n",
      "Name: HT_eventHT_SL_HLTmu_ Title:  \n",
      "Name: PV_npvsGood_SL_HLTmu_ Title:  \n"
     ]
    }
   ],
   "source": [
    "for a in file.GetListOfKeys(): print(a)"
   ]
  },
  {
   "cell_type": "code",
   "execution_count": null,
   "id": "b491765c-40d7-4c7e-a47d-8ce106028e6a",
   "metadata": {},
   "outputs": [],
   "source": []
  }
 ],
 "metadata": {
  "kernelspec": {
   "display_name": "Singularity kernel",
   "language": "python",
   "name": "singularity-kernel"
  },
  "language_info": {
   "codemirror_mode": {
    "name": "ipython",
    "version": 3
   },
   "file_extension": ".py",
   "mimetype": "text/x-python",
   "name": "python",
   "nbconvert_exporter": "python",
   "pygments_lexer": "ipython3",
   "version": "3.8.10"
  }
 },
 "nbformat": 4,
 "nbformat_minor": 5
}
